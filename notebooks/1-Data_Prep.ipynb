{
 "cells": [
  {
   "cell_type": "markdown",
   "metadata": {},
   "source": [
    "# Teamfight Tactics - Set 2: Top Player Analysis"
   ]
  },
  {
   "cell_type": "markdown",
   "metadata": {},
   "source": [
    "An analysis of the top 200 players for each region at the end of Set 2.\n",
    "\n",
    "This notebook will bring all of the data sources together and format them so they are ready for further analysis."
   ]
  },
  {
   "cell_type": "markdown",
   "metadata": {},
   "source": [
    "## Data Sources"
   ]
  },
  {
   "cell_type": "markdown",
   "metadata": {},
   "source": [
    "### tft.db\n",
    " - **players**: Data for the top 200 players for each region acquired from [lolchess.gg](https://lolchess.gg/)\n",
    " - **matches**: Data for 10 matches for each of the top players acquired from [lolchess.gg](https://lolchess.gg/)"
   ]
  },
  {
   "cell_type": "markdown",
   "metadata": {},
   "source": [
    "## Imports"
   ]
  },
  {
   "cell_type": "code",
   "execution_count": 2,
   "metadata": {},
   "outputs": [],
   "source": [
    "import sqlite3\n",
    "import csv\n",
    "import pickle\n",
    "from datetime import datetime\n",
    "from pathlib import Path"
   ]
  },
  {
   "cell_type": "markdown",
   "metadata": {},
   "source": [
    "## Input/Output file paths and directories"
   ]
  },
  {
   "cell_type": "code",
   "execution_count": 3,
   "metadata": {},
   "outputs": [],
   "source": [
    "today = datetime.today()\n",
    "db_path = Path.cwd() / \"..\" / \"data\" / \"raw\" / \"tft.db\"\n",
    "players_file_path = Path.cwd() / \"..\" / \"data\" / \"interim\" / \"players_data.csv\"\n",
    "matches_file_path = Path.cwd() / \"..\" / \"data\" / \"interim\" / \"matches_data.csv\"\n",
    "matches_pkl_traits_path = Path.cwd() / \"..\" / \"data\" / \"interim\" / \"matches_traits.pkl\"\n",
    "matches_pkl_units_path = Path.cwd() / \"..\" / \"data\" / \"interim\" / \"matches_units.pkl\""
   ]
  },
  {
   "cell_type": "markdown",
   "metadata": {},
   "source": [
    "## Retrieve the Data from the database"
   ]
  },
  {
   "cell_type": "code",
   "execution_count": 4,
   "metadata": {},
   "outputs": [],
   "source": [
    "# Initialise a connection to the database\n",
    "conn = sqlite3.connect(db_path)\n",
    "cur = conn.cursor()"
   ]
  },
  {
   "cell_type": "code",
   "execution_count": 5,
   "metadata": {},
   "outputs": [],
   "source": [
    "# Get all of the data from the players table\n",
    "cur.execute('SELECT * FROM players')\n",
    "players = cur.fetchall()\n",
    "\n",
    "# Get the column names from the players table\n",
    "players_cols = [tuple[0] for tuple in cur.description]"
   ]
  },
  {
   "cell_type": "code",
   "execution_count": 6,
   "metadata": {},
   "outputs": [],
   "source": [
    "# Get all of the data from the matches table\n",
    "cur.execute('SELECT * FROM matches')\n",
    "matches = cur.fetchall()\n",
    "\n",
    "# Get the column names from the matches table\n",
    "matches_cols = [tuple[0] for tuple in cur.description]"
   ]
  },
  {
   "cell_type": "markdown",
   "metadata": {},
   "source": [
    "## Format the Data"
   ]
  },
  {
   "cell_type": "markdown",
   "metadata": {},
   "source": [
    "The data from both tables in the database needs to be properly formatted before it can be used for the analysis and then output to a new file. It's important that the raw data remains unchanged during the formatting of the data. The following tasks will be performed:\n",
    "- **Column Heading Preparation**\n",
    "    - Separate multiple words with \"_\"\n",
    "    - Remove leading and trailing whitespace\n",
    "    - Convert to lowercase\n",
    "- **Data Preparation**\n",
    "    - Make sure all data is in the type expected/required\n",
    "    - Manipulate data into necessary format (output into a single pickle file)"
   ]
  },
  {
   "cell_type": "markdown",
   "metadata": {},
   "source": [
    "### Column Heading Preparation"
   ]
  },
  {
   "cell_type": "markdown",
   "metadata": {},
   "source": [
    "#### Separate multiple words with \"_\""
   ]
  },
  {
   "cell_type": "code",
   "execution_count": 7,
   "metadata": {},
   "outputs": [],
   "source": [
    "players_cols[0] = 'player_id'\n",
    "players_cols[5] = 'win_rate'\n",
    "\n",
    "matches_cols[0] = 'match_id'\n",
    "matches_cols[1] = 'player_id'"
   ]
  },
  {
   "cell_type": "markdown",
   "metadata": {},
   "source": [
    "#### Remove leading and trailing whitespace"
   ]
  },
  {
   "cell_type": "code",
   "execution_count": 8,
   "metadata": {},
   "outputs": [],
   "source": [
    "players_cols = [column.strip() for column in players_cols]\n",
    "matches_cols = [column.strip() for column in matches_cols]"
   ]
  },
  {
   "cell_type": "markdown",
   "metadata": {},
   "source": [
    "#### Convert to lowercase"
   ]
  },
  {
   "cell_type": "code",
   "execution_count": 9,
   "metadata": {},
   "outputs": [],
   "source": [
    "players_cols = [column.lower() for column in players_cols]\n",
    "matches_cols = [column.lower() for column in matches_cols]"
   ]
  },
  {
   "cell_type": "markdown",
   "metadata": {},
   "source": [
    "### Data Preparation"
   ]
  },
  {
   "cell_type": "markdown",
   "metadata": {},
   "source": [
    "#### Make sure all data is in the type expected/required"
   ]
  },
  {
   "cell_type": "markdown",
   "metadata": {},
   "source": [
    "1 - Define a function to make the checking of the data and outputting any discrepancies much easier:"
   ]
  },
  {
   "cell_type": "code",
   "execution_count": 10,
   "metadata": {},
   "outputs": [],
   "source": [
    "def check_type(var, expected):\n",
    "    '''\n",
    "    Check that the variable is of the expected type\n",
    "    and if it isn't then print out the type mismatch\n",
    "    '''\n",
    "    if not isinstance(var, expected):\n",
    "        print('TYPE MISMATCH: {0} is not type {1}'.format(var, expected))"
   ]
  },
  {
   "cell_type": "markdown",
   "metadata": {},
   "source": [
    "2 - Check the types for each field in the players table:"
   ]
  },
  {
   "cell_type": "code",
   "execution_count": 11,
   "metadata": {},
   "outputs": [],
   "source": [
    "# player_id\n",
    "check_type(players[0][0], int)\n",
    "\n",
    "# rank\n",
    "check_type(players[0][1], int)\n",
    "\n",
    "# name\n",
    "check_type(players[0][2], str)\n",
    "\n",
    "# tier\n",
    "check_type(players[0][3], str)\n",
    "\n",
    "# lp\n",
    "check_type(players[0][4], int)\n",
    "\n",
    "# win_rate\n",
    "check_type(players[0][5], float)\n",
    "\n",
    "# played\n",
    "check_type(players[0][6], int)\n",
    "\n",
    "# wins\n",
    "check_type(players[0][7], int)\n",
    "\n",
    "# losses\n",
    "check_type(players[0][8], int)\n",
    "\n",
    "# region\n",
    "check_type(players[0][9], str)"
   ]
  },
  {
   "cell_type": "markdown",
   "metadata": {},
   "source": [
    "3 - Check the types for each field in the matches table:"
   ]
  },
  {
   "cell_type": "markdown",
   "metadata": {},
   "source": [
    "1 - Output unit and traits to pkl files (DON'T PICKLE THEM TWICE, JUST WRITE TO THE FILE)\n",
    "2 - Unpickle these files\n",
    "3 - Check the types\n",
    "\n",
    "FINAL OUTPUT FOR ALL OF THIS SHOULD BE A CSV FILE"
   ]
  },
  {
   "cell_type": "code",
   "execution_count": 23,
   "metadata": {},
   "outputs": [
    {
     "name": "stdout",
     "output_type": "stream",
     "text": [
      "TYPE MISMATCH: 37:45 is not type <class 'datetime.datetime'>\n",
      "<class 'str'>\n"
     ]
    }
   ],
   "source": [
    "with open(matches_pkl_traits_path, 'wb') as traits_pkl_file:\n",
    "    traits_pkl_file.write(matches[0][5])\n",
    "    \n",
    "with open(matches_pkl_traits_path, 'rb') as traits_pkl_file:\n",
    "    traits = pickle.load(traits_pkl_file)\n",
    "    \n",
    "with open(matches_pkl_units_path, 'wb') as units_pkl_file:\n",
    "    units_pkl_file.write(matches[0][6])\n",
    "    \n",
    "with open(matches_pkl_units_path, 'rb') as units_pkl_file:\n",
    "    units = pickle.load(units_pkl_file)\n",
    "\n",
    "# match_id\n",
    "check_type(matches[0][0], int)\n",
    "\n",
    "# player_id\n",
    "check_type(matches[0][1], int)\n",
    "\n",
    "# placement\n",
    "check_type(matches[0][2], int)\n",
    "\n",
    "# mode\n",
    "check_type(matches[0][3], str)\n",
    "\n",
    "# length\n",
    "check_type(matches[0][4], datetime)\n",
    "print(type(matches[0][4]))\n",
    "\n",
    "# traits\n",
    "check_type(traits, list)\n",
    "\n",
    "# units\n",
    "check_type(units, list)"
   ]
  },
  {
   "cell_type": "code",
   "execution_count": null,
   "metadata": {},
   "outputs": [],
   "source": []
  }
 ],
 "metadata": {
  "kernelspec": {
   "display_name": "Python 3",
   "language": "python",
   "name": "python3"
  },
  "language_info": {
   "codemirror_mode": {
    "name": "ipython",
    "version": 3
   },
   "file_extension": ".py",
   "mimetype": "text/x-python",
   "name": "python",
   "nbconvert_exporter": "python",
   "pygments_lexer": "ipython3",
   "version": "3.7.4"
  }
 },
 "nbformat": 4,
 "nbformat_minor": 4
}
