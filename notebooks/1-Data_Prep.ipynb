{
 "cells": [
  {
   "cell_type": "markdown",
   "metadata": {},
   "source": [
    "# Teamfight Tactics - Set 2: Top Player Analysis"
   ]
  },
  {
   "cell_type": "markdown",
   "metadata": {},
   "source": [
    "An analysis of the top 200 players for each region at the end of Set 2.\n",
    "\n",
    "This notebook will bring all of the data sources together and format them so they are ready for further analysis."
   ]
  },
  {
   "cell_type": "markdown",
   "metadata": {},
   "source": [
    "## Data Sources"
   ]
  },
  {
   "cell_type": "markdown",
   "metadata": {},
   "source": [
    "- ### tft.db\n",
    " - **players**: Data for the top 200 players for each region acquired from [lolchess.gg](https://lolchess.gg/)\n",
    " - **matches**: Data for 10 matches for each of the top players acquired from [lolchess.gg](https://lolchess.gg/)"
   ]
  },
  {
   "cell_type": "markdown",
   "metadata": {},
   "source": [
    "## Imports"
   ]
  },
  {
   "cell_type": "code",
   "execution_count": 8,
   "metadata": {},
   "outputs": [],
   "source": [
    "import sqlite3\n",
    "import csv\n",
    "from datetime import datetime\n",
    "from pathlib import Path"
   ]
  },
  {
   "cell_type": "markdown",
   "metadata": {},
   "source": [
    "## Input/Output file paths and directories"
   ]
  },
  {
   "cell_type": "code",
   "execution_count": 11,
   "metadata": {},
   "outputs": [],
   "source": [
    "today = datetime.today()\n",
    "db_path = Path.cwd() / \"..\" / \"data\" / \"raw\" / \"tft.db\"\n",
    "players_file = Path.cwd() / \"..\" / \"data\" / \"interim\" / \"players_data.csv\"\n",
    "matches_file = Path.cwd() / \"..\" / \"data\" / \"interim\" / \"matches_data.csv\""
   ]
  },
  {
   "cell_type": "code",
   "execution_count": 10,
   "metadata": {},
   "outputs": [],
   "source": [
    "conn = sqlite3.connect(db_path)\n",
    "cur = conn.cursor()\n",
    "cur.execute('SELECT * FROM players')\n",
    "players = cur.fetchall()\n",
    "\n",
    "cur.execute('SELECT * FROM matches')\n",
    "matches = cur.fetchall()"
   ]
  }
 ],
 "metadata": {
  "kernelspec": {
   "display_name": "Python 3",
   "language": "python",
   "name": "python3"
  },
  "language_info": {
   "codemirror_mode": {
    "name": "ipython",
    "version": 3
   },
   "file_extension": ".py",
   "mimetype": "text/x-python",
   "name": "python",
   "nbconvert_exporter": "python",
   "pygments_lexer": "ipython3",
   "version": "3.7.4"
  }
 },
 "nbformat": 4,
 "nbformat_minor": 4
}
