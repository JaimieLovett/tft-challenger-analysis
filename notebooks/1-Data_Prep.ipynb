{
 "cells": [
  {
   "cell_type": "markdown",
   "metadata": {},
   "source": [
    "# Teamfight Tactics - Set 2: Top Player Analysis"
   ]
  },
  {
   "cell_type": "markdown",
   "metadata": {},
   "source": [
    "An analysis of the top 200 TFT players for each region at the end of Set 2.\n",
    "\n",
    "This notebook brings all of the data sources together and formats them so that they are ready for further analysis."
   ]
  },
  {
   "cell_type": "markdown",
   "metadata": {},
   "source": [
    "## Data Sources"
   ]
  },
  {
   "cell_type": "markdown",
   "metadata": {},
   "source": [
    "### tft.db\n",
    " - **players**: Data for the top 200 players for each region acquired from [lolchess.gg](https://lolchess.gg/)\n",
    " - **matches**: Data for 10 matches for each of the top players acquired from [lolchess.gg](https://lolchess.gg/)"
   ]
  },
  {
   "cell_type": "markdown",
   "metadata": {},
   "source": [
    "## Imports"
   ]
  },
  {
   "cell_type": "code",
   "execution_count": null,
   "metadata": {},
   "outputs": [],
   "source": [
    "import sqlite3\n",
    "import csv\n",
    "import pickle\n",
    "from datetime import datetime, time\n",
    "from pathlib import Path"
   ]
  },
  {
   "cell_type": "markdown",
   "metadata": {},
   "source": [
    "## Input/Output file paths and directories"
   ]
  },
  {
   "cell_type": "code",
   "execution_count": null,
   "metadata": {},
   "outputs": [],
   "source": [
    "today = datetime.today()\n",
    "db_path = Path.cwd() / \"..\" / \"data\" / \"raw\" / \"tft.db\"\n",
    "matches_pkl_traits_path = Path.cwd() / \"..\" / \"data\" / \"interim\" / \"matches_traits.pkl\"\n",
    "matches_pkl_units_path = Path.cwd() / \"..\" / \"data\" / \"interim\" / \"matches_units.pkl\"\n",
    "players_processed_csv_path = Path.cwd() / \"..\" / \"data\" / \"processed\" / \"players.csv\"\n",
    "matches_processed_csv_path = Path.cwd() / \"..\" / \"data\" / \"processed\" / \"matches.csv\""
   ]
  },
  {
   "cell_type": "markdown",
   "metadata": {},
   "source": [
    "## Retrieve the Data from the database"
   ]
  },
  {
   "cell_type": "code",
   "execution_count": 3,
   "metadata": {},
   "outputs": [],
   "source": [
    "# Initialise a connection to the database\n",
    "conn = sqlite3.connect(db_path)\n",
    "cur = conn.cursor()"
   ]
  },
  {
   "cell_type": "code",
   "execution_count": 4,
   "metadata": {},
   "outputs": [],
   "source": [
    "# Get all of the data from the players table\n",
    "cur.execute('SELECT * FROM players')\n",
    "players = cur.fetchall()\n",
    "\n",
    "# Get the column names from the players table\n",
    "players_cols = [tuple[0] for tuple in cur.description]"
   ]
  },
  {
   "cell_type": "code",
   "execution_count": 5,
   "metadata": {},
   "outputs": [],
   "source": [
    "# Get all of the data from the matches table\n",
    "cur.execute('SELECT * FROM matches')\n",
    "matches = cur.fetchall()\n",
    "\n",
    "# Get the column names from the matches table\n",
    "matches_cols = [tuple[0] for tuple in cur.description]"
   ]
  },
  {
   "cell_type": "code",
   "execution_count": 6,
   "metadata": {},
   "outputs": [],
   "source": [
    "# The traits, units and length fields from the matches table are all\n",
    "# of the wrong type. So we will store them separately to make changing\n",
    "# their type easier later on.\n",
    "\n",
    "cur.execute('SELECT traits FROM matches')\n",
    "traits_pkl = cur.fetchall()\n",
    "\n",
    "cur.execute('SELECT units FROM matches')\n",
    "units_pkl = cur.fetchall()\n",
    "\n",
    "cur.execute('SELECT length FROM matches')\n",
    "match_length = cur.fetchall()"
   ]
  },
  {
   "cell_type": "markdown",
   "metadata": {},
   "source": [
    "## Format the Data"
   ]
  },
  {
   "cell_type": "markdown",
   "metadata": {},
   "source": [
    "The data from both tables in the database needs to be properly formatted before it can be used for the analysis and then output to a new file. It's important that the raw data remains unchanged during the formatting of the data. The following tasks need to be performed:\n",
    "- **Column Heading Preparation**\n",
    "    - Separate multiple words with \"_\"\n",
    "    - Remove leading and trailing whitespace\n",
    "    - Convert to lowercase\n",
    "- **Data Preparation**\n",
    "    - Make sure all data is in the type expected/required\n",
    "    - Manipulate data into necessary format"
   ]
  },
  {
   "cell_type": "markdown",
   "metadata": {},
   "source": [
    "### Column Heading Preparation"
   ]
  },
  {
   "cell_type": "markdown",
   "metadata": {},
   "source": [
    "#### Separate multiple words with \"_\""
   ]
  },
  {
   "cell_type": "code",
   "execution_count": 7,
   "metadata": {},
   "outputs": [],
   "source": [
    "players_cols[0] = 'player_id'\n",
    "players_cols[5] = 'win_rate'\n",
    "\n",
    "matches_cols[0] = 'match_id'\n",
    "matches_cols[1] = 'player_id'"
   ]
  },
  {
   "cell_type": "markdown",
   "metadata": {},
   "source": [
    "#### Remove leading and trailing whitespace"
   ]
  },
  {
   "cell_type": "code",
   "execution_count": 8,
   "metadata": {},
   "outputs": [],
   "source": [
    "players_cols = [column.strip() for column in players_cols]\n",
    "matches_cols = [column.strip() for column in matches_cols]"
   ]
  },
  {
   "cell_type": "markdown",
   "metadata": {},
   "source": [
    "#### Convert to lowercase"
   ]
  },
  {
   "cell_type": "code",
   "execution_count": 9,
   "metadata": {},
   "outputs": [],
   "source": [
    "players_cols = [column.lower() for column in players_cols]\n",
    "matches_cols = [column.lower() for column in matches_cols]"
   ]
  },
  {
   "cell_type": "markdown",
   "metadata": {},
   "source": [
    "### Data Preparation"
   ]
  },
  {
   "cell_type": "markdown",
   "metadata": {},
   "source": [
    "#### Make sure all data is in the type expected/required"
   ]
  },
  {
   "cell_type": "markdown",
   "metadata": {},
   "source": [
    "1 - Define a function to make the checking of the data and outputting any discrepancies much easier:"
   ]
  },
  {
   "cell_type": "code",
   "execution_count": 10,
   "metadata": {},
   "outputs": [],
   "source": [
    "def check_type(var, expected):\n",
    "    '''\n",
    "    Check that the variable is of the expected type\n",
    "    and if it isn't then print out the type mismatch\n",
    "    '''\n",
    "    if not isinstance(var, expected):\n",
    "        print('TYPE MISMATCH: {0} is not type {1}'.format(var, expected))"
   ]
  },
  {
   "cell_type": "markdown",
   "metadata": {},
   "source": [
    "2 - The traits and units in the matches table were pickled before being stored in the database. They need to be unpickled to make the type checking possible:"
   ]
  },
  {
   "cell_type": "code",
   "execution_count": 11,
   "metadata": {},
   "outputs": [],
   "source": [
    "traits = []\n",
    "for row in traits_pkl:\n",
    "    with open(matches_pkl_traits_path, 'wb') as traits_pkl_file:\n",
    "        traits_pkl_file.write(row[0])\n",
    "\n",
    "    with open(matches_pkl_traits_path, 'rb') as traits_pkl_file:\n",
    "        traits.append(pickle.load(traits_pkl_file))\n",
    "\n",
    "units = []\n",
    "for row in units_pkl:\n",
    "    with open(matches_pkl_units_path, 'wb') as units_pkl_file:\n",
    "        units_pkl_file.write(row[0])\n",
    "    \n",
    "    with open(matches_pkl_units_path, 'rb') as units_pkl_file:\n",
    "        units.append(pickle.load(units_pkl_file))"
   ]
  },
  {
   "cell_type": "markdown",
   "metadata": {},
   "source": [
    "3 - The match length was stored in the database as a string but it should be of type 'time'. Convert it to the correct type:"
   ]
  },
  {
   "cell_type": "code",
   "execution_count": 12,
   "metadata": {},
   "outputs": [],
   "source": [
    "lengths = []\n",
    "for row in match_length:\n",
    "    lengths.append(datetime.strptime(row[0], '%M:%S').time())"
   ]
  },
  {
   "cell_type": "markdown",
   "metadata": {},
   "source": [
    "4 - Store all of the match data in a new list called 'processed_matches' with the 'length', 'traits' and 'units' variables all being replaced by the newly corrected types:"
   ]
  },
  {
   "cell_type": "code",
   "execution_count": 13,
   "metadata": {},
   "outputs": [],
   "source": [
    "processed_matches = []\n",
    "for i in range(len(matches)):\n",
    "    processed_matches.append([\n",
    "                                matches[i][0], \n",
    "                                matches[i][1],\n",
    "                                matches[i][2],\n",
    "                                matches[i][3],\n",
    "                                lengths[i],\n",
    "                                traits[i],\n",
    "                                units[i]\n",
    "                            ])"
   ]
  },
  {
   "cell_type": "markdown",
   "metadata": {},
   "source": [
    "5 - Check the types for each field in the players data:"
   ]
  },
  {
   "cell_type": "code",
   "execution_count": 14,
   "metadata": {},
   "outputs": [],
   "source": [
    "# player_id\n",
    "check_type(players[0][0], int)\n",
    "\n",
    "# rank\n",
    "check_type(players[0][1], int)\n",
    "\n",
    "# name\n",
    "check_type(players[0][2], str)\n",
    "\n",
    "# tier\n",
    "check_type(players[0][3], str)\n",
    "\n",
    "# lp\n",
    "check_type(players[0][4], int)\n",
    "\n",
    "# win_rate\n",
    "check_type(players[0][5], float)\n",
    "\n",
    "# played\n",
    "check_type(players[0][6], int)\n",
    "\n",
    "# wins\n",
    "check_type(players[0][7], int)\n",
    "\n",
    "# losses\n",
    "check_type(players[0][8], int)\n",
    "\n",
    "# region\n",
    "check_type(players[0][9], str)"
   ]
  },
  {
   "cell_type": "markdown",
   "metadata": {},
   "source": [
    "6 - Check the types for each field for the matches data:"
   ]
  },
  {
   "cell_type": "code",
   "execution_count": 15,
   "metadata": {},
   "outputs": [],
   "source": [
    "# match_id\n",
    "check_type(processed_matches[0][0], int)\n",
    "\n",
    "# player_id\n",
    "check_type(processed_matches[0][1], int)\n",
    "\n",
    "# placement\n",
    "check_type(processed_matches[0][2], int)\n",
    "\n",
    "# mode\n",
    "check_type(processed_matches[0][3], str)\n",
    "\n",
    "# length\n",
    "check_type(processed_matches[0][4], time)\n",
    "\n",
    "# traits\n",
    "check_type(processed_matches[0][5], list)\n",
    "\n",
    "# units\n",
    "check_type(processed_matches[0][6], list)"
   ]
  },
  {
   "cell_type": "markdown",
   "metadata": {},
   "source": [
    "#### Manipulate data into necessary format"
   ]
  },
  {
   "cell_type": "markdown",
   "metadata": {},
   "source": [
    "Finally the data must be output to a processed folder, ready for use:"
   ]
  },
  {
   "cell_type": "code",
   "execution_count": 16,
   "metadata": {},
   "outputs": [],
   "source": [
    "# Output the players data to a CSV file\n",
    "with open(players_processed_csv_path, 'w', newline='', encoding='utf-8') as players_csv_file:\n",
    "    writer = csv.writer(players_csv_file)\n",
    "    writer.writerow(players_cols)\n",
    "    writer.writerows(players)"
   ]
  },
  {
   "cell_type": "code",
   "execution_count": 17,
   "metadata": {},
   "outputs": [],
   "source": [
    "# Output the matches data to a CSV file\n",
    "with open(matches_processed_csv_path, 'w', newline='', encoding='utf-8') as matches_csv_file:\n",
    "    writer = csv.writer(matches_csv_file)\n",
    "    writer.writerow(matches_cols)\n",
    "    writer.writerows(processed_matches)"
   ]
  }
 ],
 "metadata": {
  "kernelspec": {
   "display_name": "Python 3",
   "language": "python",
   "name": "python3"
  },
  "language_info": {
   "codemirror_mode": {
    "name": "ipython",
    "version": 3
   },
   "file_extension": ".py",
   "mimetype": "text/x-python",
   "name": "python",
   "nbconvert_exporter": "python",
   "pygments_lexer": "ipython3",
   "version": "3.7.4"
  }
 },
 "nbformat": 4,
 "nbformat_minor": 4
}
