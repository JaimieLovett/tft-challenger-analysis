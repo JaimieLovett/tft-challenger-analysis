{
 "cells": [
  {
   "cell_type": "markdown",
   "metadata": {},
   "source": [
    "# Teamfight Tactics - Set 2: Top Player Analysis"
   ]
  },
  {
   "cell_type": "markdown",
   "metadata": {},
   "source": [
    "An analysis of the top 200 players for each region at the end of Set 2.\n",
    "\n",
    "This notebook will bring all of the data sources together and format them so they are ready for further analysis."
   ]
  },
  {
   "cell_type": "markdown",
   "metadata": {},
   "source": [
    "## Data Sources"
   ]
  },
  {
   "cell_type": "markdown",
   "metadata": {},
   "source": [
    "- ### tft.db\n",
    " - **players**: Data for the top 200 players for each region acquired from [lolchess.gg](https://lolchess.gg/)\n",
    " - **matches**: Data for 10 matches for each of the top players acquired from [lolchess.gg](https://lolchess.gg/)"
   ]
  },
  {
   "cell_type": "markdown",
   "metadata": {},
   "source": [
    "## Imports"
   ]
  },
  {
   "cell_type": "code",
   "execution_count": 1,
   "metadata": {},
   "outputs": [],
   "source": [
    "import sqlite3\n",
    "import csv\n",
    "from datetime import datetime\n",
    "from pathlib import Path"
   ]
  },
  {
   "cell_type": "markdown",
   "metadata": {},
   "source": [
    "## Input/Output file paths and directories"
   ]
  },
  {
   "cell_type": "code",
   "execution_count": 2,
   "metadata": {},
   "outputs": [],
   "source": [
    "today = datetime.today()\n",
    "db_path = Path.cwd() / \"..\" / \"data\" / \"raw\" / \"tft.db\"\n",
    "players_file_path = Path.cwd() / \"..\" / \"data\" / \"interim\" / \"players_data.csv\"\n",
    "matches_file_path = Path.cwd() / \"..\" / \"data\" / \"interim\" / \"matches_data.csv\""
   ]
  },
  {
   "cell_type": "markdown",
   "metadata": {},
   "source": [
    "## Produce Interim Data Files"
   ]
  },
  {
   "cell_type": "code",
   "execution_count": 3,
   "metadata": {},
   "outputs": [],
   "source": [
    "# Initialise a connection to the database\n",
    "conn = sqlite3.connect(db_path)\n",
    "cur = conn.cursor()"
   ]
  },
  {
   "cell_type": "code",
   "execution_count": 4,
   "metadata": {},
   "outputs": [],
   "source": [
    "# Get all the data from the players table\n",
    "cur.execute('SELECT * FROM players')\n",
    "players = cur.fetchall()\n",
    "\n",
    "# Get the column names from the players table\n",
    "players_cols = [tuple[0] for tuple in cur.description]"
   ]
  },
  {
   "cell_type": "code",
   "execution_count": 5,
   "metadata": {},
   "outputs": [],
   "source": [
    "# Write players data to the interim players csv file\n",
    "with open(players_file_path, 'w', newline='', encoding='utf8') as players_file:\n",
    "    writer = csv.writer(players_file)\n",
    "    writer.writerow(players_cols)\n",
    "    writer.writerows(players)"
   ]
  },
  {
   "cell_type": "code",
   "execution_count": 6,
   "metadata": {},
   "outputs": [],
   "source": [
    "# Get all the data from the matches table\n",
    "cur.execute('SELECT * FROM matches')\n",
    "matches = cur.fetchall()\n",
    "\n",
    "# Get the column names from the matches table\n",
    "matches_cols = [tuple[0] for tuple in cur.description]"
   ]
  },
  {
   "cell_type": "code",
   "execution_count": 7,
   "metadata": {},
   "outputs": [],
   "source": [
    "# Write matches data to the interim matches csv file\n",
    "with open(matches_file_path, 'w', newline='', encoding='utf8') as matches_file:\n",
    "    writer = csv.writer(matches_file)\n",
    "    writer.writerow(matches_cols)\n",
    "    writer.writerows(matches)"
   ]
  }
 ],
 "metadata": {
  "kernelspec": {
   "display_name": "Python 3",
   "language": "python",
   "name": "python3"
  },
  "language_info": {
   "codemirror_mode": {
    "name": "ipython",
    "version": 3
   },
   "file_extension": ".py",
   "mimetype": "text/x-python",
   "name": "python",
   "nbconvert_exporter": "python",
   "pygments_lexer": "ipython3",
   "version": "3.7.4"
  }
 },
 "nbformat": 4,
 "nbformat_minor": 4
}
